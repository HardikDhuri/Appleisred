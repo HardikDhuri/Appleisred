{
 "cells": [
  {
   "cell_type": "markdown",
   "metadata": {},
   "source": []
  },
  {
   "cell_type": "code",
   "execution_count": 5,
   "metadata": {},
   "outputs": [],
   "source": [
    "nodes = 5\n",
    "edges = [(0,1), (0,4), (1,2), (2,3), (1,3), (1,4), (3,4)]"
   ]
  },
  {
   "cell_type": "code",
   "execution_count": 11,
   "metadata": {},
   "outputs": [],
   "source": [
    "class Graph:\n",
    "    def __init__(self, num_nodes, edges) -> None:\n",
    "        self.num_nodes = num_nodes\n",
    "        self.data = [[] for _ in range(num_nodes)]\n",
    "        for n1, n2 in edges:\n",
    "            self.data[n1].append(n2)\n",
    "            self.data[n2].append(n1)\n",
    "    \n",
    "    def __repr__(self) -> str:\n",
    "        return \"\\n\".join([\"{}: {}\".format(n,neighbours) for n, neighbours in enumerate(self.data)])\n",
    "    \n",
    "    def __str__(self) -> str:\n",
    "        return \"\\n\".join([\"{}: {}\".format(n,neighbours) for n, neighbours in enumerate(self.data)])"
   ]
  },
  {
   "cell_type": "code",
   "execution_count": 14,
   "metadata": {},
   "outputs": [],
   "source": [
    "graph = Graph(nodes, edges)"
   ]
  },
  {
   "cell_type": "code",
   "execution_count": 15,
   "metadata": {},
   "outputs": [
    {
     "data": {
      "text/plain": [
       "[[1, 4], [0, 2, 3, 4], [1, 3], [2, 1, 4], [0, 1, 3]]"
      ]
     },
     "execution_count": 15,
     "metadata": {},
     "output_type": "execute_result"
    }
   ],
   "source": [
    "graph.data"
   ]
  },
  {
   "cell_type": "code",
   "execution_count": 17,
   "metadata": {},
   "outputs": [
    {
     "data": {
      "text/plain": [
       "0: [1, 4]\n",
       "1: [0, 2, 3, 4]\n",
       "2: [1, 3]\n",
       "3: [2, 1, 4]\n",
       "4: [0, 1, 3]"
      ]
     },
     "execution_count": 17,
     "metadata": {},
     "output_type": "execute_result"
    }
   ],
   "source": [
    "graph"
   ]
  },
  {
   "cell_type": "code",
   "execution_count": 31,
   "metadata": {},
   "outputs": [],
   "source": [
    "\n",
    "def bfs(graph, root):\n",
    "    queue = []\n",
    "    discovered = [False] * graph.num_nodes\n",
    "    distance = [None] * graph.num_nodes\n",
    "    parent = [None] * graph.num_nodes\n",
    "\n",
    "    queue.append(root)\n",
    "    discovered[root] = True\n",
    "    distance[root] = 0\n",
    "\n",
    "    idx = 0\n",
    "\n",
    "    while idx < len(queue):\n",
    "        current = queue[idx]\n",
    "        idx += 1\n",
    "\n",
    "        for node in graph.data[current]:\n",
    "            if not discovered[node]:\n",
    "                discovered[node] = True\n",
    "                queue.append(node)\n",
    "                distance[node] = 1 + distance[current]\n",
    "                parent[node] = current\n",
    "    return queue, distance, parent\n"
   ]
  },
  {
   "cell_type": "code",
   "execution_count": 32,
   "metadata": {},
   "outputs": [
    {
     "data": {
      "text/plain": [
       "([3, 2, 1, 4, 0], [2, 1, 1, 0, 1], [1, 3, 3, None, 3])"
      ]
     },
     "execution_count": 32,
     "metadata": {},
     "output_type": "execute_result"
    }
   ],
   "source": [
    "bfs(graph, 3)"
   ]
  },
  {
   "cell_type": "code",
   "execution_count": null,
   "metadata": {},
   "outputs": [],
   "source": []
  }
 ],
 "metadata": {
  "kernelspec": {
   "display_name": "Python 3.9.6 ('base')",
   "language": "python",
   "name": "python3"
  },
  "language_info": {
   "codemirror_mode": {
    "name": "ipython",
    "version": 3
   },
   "file_extension": ".py",
   "mimetype": "text/x-python",
   "name": "python",
   "nbconvert_exporter": "python",
   "pygments_lexer": "ipython3",
   "version": "3.9.6"
  },
  "orig_nbformat": 4,
  "vscode": {
   "interpreter": {
    "hash": "ece22298b122fc1ee12f20896455c63039877c7230fda1188a7151a9b90329c0"
   }
  }
 },
 "nbformat": 4,
 "nbformat_minor": 2
}
